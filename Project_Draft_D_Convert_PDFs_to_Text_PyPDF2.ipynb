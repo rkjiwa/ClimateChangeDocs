{
 "cells": [
  {
   "cell_type": "code",
   "execution_count": 1,
   "metadata": {},
   "outputs": [
    {
     "data": {
      "text/plain": [
       "'/Users/rahimjiwa/Documents/DataScience/UoftT3666_AppliedNLP/Final'"
      ]
     },
     "execution_count": 1,
     "metadata": {},
     "output_type": "execute_result"
    }
   ],
   "source": [
    "%pwd"
   ]
  },
  {
   "cell_type": "code",
   "execution_count": 2,
   "metadata": {},
   "outputs": [],
   "source": [
    "# imports\n",
    "import PyPDF2\n",
    "import os\n",
    "import glob"
   ]
  },
  {
   "cell_type": "code",
   "execution_count": 3,
   "metadata": {},
   "outputs": [
    {
     "name": "stdout",
     "output_type": "stream",
     "text": [
      "A Practitioners Guide to ClimateChange Adaptation in Ontario's Ecosystems Ver 1 2011.pdf\r\n",
      "A Practitioners Guide to ClimateChange Adaptation in Ontario's Ecosystems Ver 1 2011.pdf.txt\r\n",
      "Book 1 - Harry Potter and the Sorcerer's Stone.pdf.txt\r\n",
      "\u001b[34mClimateChangeDocs-master\u001b[m\u001b[m\r\n",
      "\u001b[34mHarry Potter Series\u001b[m\u001b[m\r\n",
      "PDFtoText.ipynb\r\n",
      "Untitled.ipynb\r\n",
      "test.txt\r\n"
     ]
    }
   ],
   "source": [
    "!ls"
   ]
  },
  {
   "cell_type": "code",
   "execution_count": 32,
   "metadata": {},
   "outputs": [],
   "source": [
    "# create a function out of this\n",
    "def pdfExtract(name):\n",
    "    pdf = open(name, 'rb')\n",
    "    read_pdf = PyPDF2.PdfFileReader(pdf)\n",
    "    if read_pdf.isEncrypted == True:\n",
    "        print(name + ' file is encrypted')\n",
    "    else:\n",
    "        page_content = []\n",
    "        number_of_pages = read_pdf.getNumPages()\n",
    "        for i in range(number_of_pages):\n",
    "            page = read_pdf.getPage(i)\n",
    "            content = page.extractText()\n",
    "            page_content.append(content)\n",
    "            if (i+ 1) == number_of_pages:\n",
    "                with open(str(os.getcwd()) + '/textfiles/' + name[:-4] + '.txt', 'w') as f:\n",
    "                # if in the directory\n",
    "                #with open(name[:-4] + '.txt', 'w') as f: \n",
    "                    f.write(str(page_content) + \"\\n\")\n",
    "                    print(name + ' success')\n",
    "#print(page_content)"
   ]
  },
  {
   "cell_type": "code",
   "execution_count": 5,
   "metadata": {},
   "outputs": [],
   "source": [
    "os.chdir('ClimateChangeDocs-master/Not_Yet_Examined')"
   ]
  },
  {
   "cell_type": "code",
   "execution_count": 33,
   "metadata": {},
   "outputs": [
    {
     "name": "stdout",
     "output_type": "stream",
     "text": [
      "Ahead-of-the-Storm-1.pdf\r\n",
      "Ahead-of-the-Storm-1.txt\r\n",
      "ClimatRisk-E-ACCESSIBLE.pdf\r\n",
      "ClimatRisk-E-ACCESSIBLE.txt\r\n",
      "En56-226-2008-eng.pdf\r\n",
      "En56-226-2008-eng.txt\r\n",
      "FBC_WaterGuide_FINAL.pdf\r\n",
      "FBC_WaterGuide_FINAL.txt\r\n",
      "FloodRecovery-e.pdf\r\n",
      "FloodRecovery-e.txt\r\n",
      "Guide-Building-Sustainable-and-Resilient-Communities-with-Asset-Management-EN.pdf\r\n",
      "Guide-Building-Sustainable-and-Resilient-Communities-with-Asset-Management-EN.txt\r\n",
      "Guidebook-2016.pdf\r\n",
      "Guidebook-2016.txt\r\n",
      "HP5-122-2017-eng.pdf\r\n",
      "HP5-122-2017-eng.txt\r\n",
      "Protect_Your_Home_From_Flooding_Brochure.pdf\r\n",
      "Protect_Your_Home_From_Flooding_Brochure.txt\r\n",
      "Report on Effects of a Changing Climate to the US Department of Defense.pdf\r\n",
      "Report on Effects of a Changing Climate to the US Department of Defense.txt\r\n",
      "Spring_Flood_Fact_Sheet.pdf\r\n",
      "Spring_Flood_Fact_Sheet.txt\r\n",
      "Synthesis_Eng.pdf\r\n",
      "Synthesis_Eng.txt\r\n",
      "Urban_Forests_Guide.pdf\r\n",
      "Urban_Forests_Guide.txt\r\n",
      "VOLUME 1 Canada's Changing Climate 2018.pdf\r\n",
      "VOLUME 2 Preparing for Change 2018.pdf\r\n",
      "VOLUME 3 Creating Resilient Communities 2018.pdf\r\n",
      "VOLUME 4 Facing Rising Waters 2018.pdf\r\n",
      "Vancouver-Climate-Change-Adaptation-Strategy-2012-11-07.pdf\r\n",
      "Vancouver-Climate-Change-Adaptation-Strategy-2012-11-07.txt\r\n",
      "Vulnerability Guidebook_June2_EN.pdf\r\n",
      "Vulnerability Guidebook_June2_EN.txt\r\n",
      "WCEL_climate_change_FINAL.pdf\r\n",
      "WCEL_climate_change_FINAL.txt\r\n",
      "Windsor Climate Change Adaptation Plan.pdf\r\n",
      "Windsor Climate Change Adaptation Plan.txt\r\n",
      "builders_guide_2010_final.pdf\r\n",
      "builders_guide_2010_final.txt\r\n",
      "ccp_impactonpeople.pdf\r\n",
      "ccp_impactonpeople.txt\r\n",
      "climate_data_discussion_primer.pdf\r\n",
      "climate_data_discussion_primer.txt\r\n",
      "coastal_flooded_land_guidelines.pdf\r\n",
      "coastal_flooded_land_guidelines.txt\r\n",
      "env-yukon-state-play-analysis-climate-change-impacts-adaptation.pdf\r\n",
      "env-yukon-state-play-analysis-climate-change-impacts-adaptation.txt\r\n",
      "final_climate_change_and_health_backgrounder_overview.pdf\r\n",
      "final_climate_change_and_health_backgrounder_overview.txt\r\n",
      "health_facilit-instal_sante-eng.pdf\r\n",
      "health_facilit-instal_sante-eng.txt\r\n",
      "landuse-e.pdf\r\n",
      "landuse-e.txt\r\n",
      "municipal-climate-change-action-plan-guidebook-en.pdf\r\n",
      "municipal-climate-change-action-plan-guidebook-en.txt\r\n",
      "preparedbc_flood_information_for_homeowners_and_home_buyers_2018.pdf\r\n",
      "preparedbc_flood_information_for_homeowners_and_home_buyers_2018.txt\r\n",
      "protect-your-home-from-basement-flooding.pdf\r\n",
      "protect-your-home-from-basement-flooding.txt\r\n",
      "public_guideline__principles_of_climate_adaptation_and_mitigation_for_engineers.pdf\r\n",
      "public_guideline__principles_of_climate_adaptation_and_mitigation_for_engineers.txt\r\n",
      "sea_dike_guidelines.pdf\r\n",
      "sea_dike_guidelines.txt\r\n",
      "slr-primer.pdf\r\n",
      "slr-primer.txt\r\n",
      "\u001b[34mtextfiles\u001b[m\u001b[m\r\n"
     ]
    }
   ],
   "source": [
    "!ls"
   ]
  },
  {
   "cell_type": "code",
   "execution_count": 34,
   "metadata": {},
   "outputs": [],
   "source": [
    "files = glob.glob(\"*.pdf\")"
   ]
  },
  {
   "cell_type": "code",
   "execution_count": 22,
   "metadata": {},
   "outputs": [
    {
     "data": {
      "text/plain": [
       "list"
      ]
     },
     "execution_count": 22,
     "metadata": {},
     "output_type": "execute_result"
    }
   ],
   "source": [
    "type(files)"
   ]
  },
  {
   "cell_type": "code",
   "execution_count": 23,
   "metadata": {},
   "outputs": [
    {
     "name": "stdout",
     "output_type": "stream",
     "text": [
      "['ccp_impactonpeople.pdf', 'Guidebook-2016.pdf', 'WCEL_climate_change_FINAL.pdf', 'Report on Effects of a Changing Climate to the US Department of Defense.pdf', 'Vulnerability Guidebook_June2_EN.pdf', 'Ahead-of-the-Storm-1.pdf', 'env-yukon-state-play-analysis-climate-change-impacts-adaptation.pdf', 'Windsor Climate Change Adaptation Plan.pdf', 'Vancouver-Climate-Change-Adaptation-Strategy-2012-11-07.pdf', 'public_guideline__principles_of_climate_adaptation_and_mitigation_for_engineers.pdf', 'VOLUME 4 Facing Rising Waters 2018.pdf', 'Spring_Flood_Fact_Sheet.pdf', 'climate_data_discussion_primer.pdf', 'FloodRecovery-e.pdf', 'slr-primer.pdf', 'ClimatRisk-E-ACCESSIBLE.pdf', 'Synthesis_Eng.pdf', 'landuse-e.pdf', 'municipal-climate-change-action-plan-guidebook-en.pdf', 'HP5-122-2017-eng.pdf', 'FBC_WaterGuide_FINAL.pdf', 'final_climate_change_and_health_backgrounder_overview.pdf', 'VOLUME 2 Preparing for Change 2018.pdf', 'builders_guide_2010_final.pdf', 'protect-your-home-from-basement-flooding.pdf', 'En56-226-2008-eng.pdf', 'sea_dike_guidelines.pdf', 'Urban_Forests_Guide.pdf', 'Protect_Your_Home_From_Flooding_Brochure.pdf', 'Guide-Building-Sustainable-and-Resilient-Communities-with-Asset-Management-EN.pdf', 'VOLUME 3 Creating Resilient Communities 2018.pdf', \"VOLUME 1 Canada's Changing Climate 2018.pdf\", 'health_facilit-instal_sante-eng.pdf', 'preparedbc_flood_information_for_homeowners_and_home_buyers_2018.pdf', 'coastal_flooded_land_guidelines.pdf']\n"
     ]
    }
   ],
   "source": [
    "print(files)"
   ]
  },
  {
   "cell_type": "code",
   "execution_count": 35,
   "metadata": {},
   "outputs": [
    {
     "name": "stdout",
     "output_type": "stream",
     "text": [
      "ccp_impactonpeople.pdf success\n",
      "Guidebook-2016.pdf success\n",
      "WCEL_climate_change_FINAL.pdf success\n",
      "Report on Effects of a Changing Climate to the US Department of Defense.pdf success\n",
      "Vulnerability Guidebook_June2_EN.pdf success\n",
      "Ahead-of-the-Storm-1.pdf success\n",
      "env-yukon-state-play-analysis-climate-change-impacts-adaptation.pdf success\n",
      "Windsor Climate Change Adaptation Plan.pdf success\n",
      "Vancouver-Climate-Change-Adaptation-Strategy-2012-11-07.pdf success\n",
      "public_guideline__principles_of_climate_adaptation_and_mitigation_for_engineers.pdf success\n",
      "VOLUME 4 Facing Rising Waters 2018.pdf file is encrypted\n",
      "Spring_Flood_Fact_Sheet.pdf success\n",
      "climate_data_discussion_primer.pdf success\n",
      "FloodRecovery-e.pdf success\n",
      "slr-primer.pdf success\n",
      "ClimatRisk-E-ACCESSIBLE.pdf success\n",
      "Synthesis_Eng.pdf success\n",
      "landuse-e.pdf success\n",
      "municipal-climate-change-action-plan-guidebook-en.pdf success\n",
      "HP5-122-2017-eng.pdf success\n",
      "FBC_WaterGuide_FINAL.pdf success\n",
      "final_climate_change_and_health_backgrounder_overview.pdf success\n",
      "VOLUME 2 Preparing for Change 2018.pdf file is encrypted\n",
      "builders_guide_2010_final.pdf success\n",
      "protect-your-home-from-basement-flooding.pdf success\n",
      "En56-226-2008-eng.pdf success\n",
      "sea_dike_guidelines.pdf success\n",
      "Urban_Forests_Guide.pdf success\n",
      "Protect_Your_Home_From_Flooding_Brochure.pdf success\n",
      "Guide-Building-Sustainable-and-Resilient-Communities-with-Asset-Management-EN.pdf success\n",
      "VOLUME 3 Creating Resilient Communities 2018.pdf file is encrypted\n",
      "VOLUME 1 Canada's Changing Climate 2018.pdf file is encrypted\n",
      "health_facilit-instal_sante-eng.pdf success\n",
      "preparedbc_flood_information_for_homeowners_and_home_buyers_2018.pdf success\n",
      "coastal_flooded_land_guidelines.pdf success\n",
      "CPU times: user 1min 4s, sys: 745 ms, total: 1min 4s\n",
      "Wall time: 1min 8s\n"
     ]
    }
   ],
   "source": [
    "%%time\n",
    "for i in files:\n",
    "    # this directory bit works in conjunction with the directory in the pdfExtract function\n",
    "    # you could remove it, however you should also edit that function as well\n",
    "    if not os.path.exists(str(os.getcwd()) + '/textfiles'):\n",
    "        os.makedirs(str(os.getcwd()) + '/textfiles')\n",
    "    pdfExtract(i)"
   ]
  }
 ],
 "metadata": {
  "kernelspec": {
   "display_name": "Python 3",
   "language": "python",
   "name": "python3"
  },
  "language_info": {
   "codemirror_mode": {
    "name": "ipython",
    "version": 3
   },
   "file_extension": ".py",
   "mimetype": "text/x-python",
   "name": "python",
   "nbconvert_exporter": "python",
   "pygments_lexer": "ipython3",
   "version": "3.7.4"
  }
 },
 "nbformat": 4,
 "nbformat_minor": 2
}
